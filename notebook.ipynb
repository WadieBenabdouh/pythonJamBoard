{
 "cells": [
  {
   "cell_type": "markdown",
   "metadata": {},
   "source": [
    "# Python Reserved Keywords."
   ]
  },
  {
   "cell_type": "code",
   "execution_count": 2,
   "metadata": {},
   "outputs": [
    {
     "name": "stdout",
     "output_type": "stream",
     "text": [
      "<class 'list'>\n"
     ]
    }
   ],
   "source": [
    "keywords = [\" and, exec, not, assert, finally, or, break, for, pass, class, from, print, continue, global, raise, def, if, return, del, import, try, elif, in, else, is, with, except\"]\n",
    "\n",
    "print(type(keywords))"
   ]
  },
  {
   "cell_type": "markdown",
   "metadata": {},
   "source": [
    "# Type casting a str to int"
   ]
  },
  {
   "cell_type": "code",
   "execution_count": 10,
   "metadata": {},
   "outputs": [
    {
     "name": "stdout",
     "output_type": "stream",
     "text": [
      "<class 'str'>\n",
      "<class 'int'>\n"
     ]
    }
   ],
   "source": [
    "user_input = input()\n",
    "print(type(user_input))\n",
    "converted_input = int(user_input)\n",
    "print(type(converted_input))"
   ]
  },
  {
   "cell_type": "markdown",
   "metadata": {},
   "source": [
    "# Let's apply this to a age verification system"
   ]
  },
  {
   "cell_type": "code",
   "execution_count": 16,
   "metadata": {},
   "outputs": [
    {
     "name": "stdout",
     "output_type": "stream",
     "text": [
      "You are not allowed for entry\n"
     ]
    }
   ],
   "source": [
    "legal_age = 18\n",
    "user_age = input()\n",
    "# converting the input from str to integer.\n",
    "converted_age = int(user_age)\n",
    "\n",
    "# verification system using conditionals.\n",
    "if legal_age < converted_age:\n",
    "    print(\"You are allowed to access the club\")\n",
    "    \n",
    "elif legal_age == converted_age:\n",
    "    print(\"Perfect age amigo\")\n",
    "    \n",
    "else :\n",
    "    print(\"You are not allowed for entry\")"
   ]
  },
  {
   "cell_type": "markdown",
   "metadata": {},
   "source": [
    "# --Python Data Types"
   ]
  },
  {
   "cell_type": "code",
   "execution_count": null,
   "metadata": {},
   "outputs": [],
   "source": [
    "# String\n",
    "name = \"Bravo Six\" \n",
    "\n",
    "# Numbers\n",
    "integer = 10\n",
    "a_float = 141.0\n",
    "\n",
    "# Boolean \n",
    "is_alive = True #capital T or F\n",
    "is_dead = False\n",
    "\n",
    "# Lists \n",
    "numbers = [1, 2, 3, 4, 5]\n",
    "squad_strings = [\"Captain Price\", \"Seargeant MC Tavish\", \"Ghost Simon\", \"Sandman\"]\n",
    "mixed = [\"C-17\", 10, 141.1, True] # containing a string/integer/float/boolean\n",
    "\n",
    "# Tuples\n",
    "one_to_ten = (1, 2, 3, 4, 5, 6, 7, 8, 9, 10)\n",
    "# tuples cannot be changed or reordered as they are always immutable values, unlike lists are flexible and can be modified/replaced/removed/appended\n",
    "\n",
    "\n",
    "# Dictionaries\n",
    "# to keep the syntax clean make sure to use ' ' when wrapping a key, therefor not mixing them with the usual string syntax and to keep them standing out from  other elements\n",
    "student = {\n",
    "    'name' : \"Big Chungus\",\n",
    "    'age' : 12, \n",
    "    'score' : 10.2\n",
    "}\n"
   ]
  }
 ],
 "metadata": {
  "kernelspec": {
   "display_name": "Python 3",
   "language": "python",
   "name": "python3"
  },
  "language_info": {
   "codemirror_mode": {
    "name": "ipython",
    "version": 3
   },
   "file_extension": ".py",
   "mimetype": "text/x-python",
   "name": "python",
   "nbconvert_exporter": "python",
   "pygments_lexer": "ipython3",
   "version": "3.12.1"
  }
 },
 "nbformat": 4,
 "nbformat_minor": 2
}
