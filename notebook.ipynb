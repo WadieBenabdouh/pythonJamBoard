{
 "cells": [
  {
   "cell_type": "markdown",
   "metadata": {},
   "source": [
    "# Python Reserved Keywords."
   ]
  },
  {
   "cell_type": "code",
   "execution_count": 2,
   "metadata": {},
   "outputs": [
    {
     "name": "stdout",
     "output_type": "stream",
     "text": [
      "<class 'list'>\n"
     ]
    }
   ],
   "source": [
    "keywords = [\" and, exec, not, assert, finally, or, break, for, pass, class, from, print, continue, global, raise, def, if, return, del, import, try, elif, in, else, is, with, except\"]\n",
    "\n",
    "print(type(keywords))"
   ]
  },
  {
   "cell_type": "markdown",
   "metadata": {},
   "source": [
    "# Type casting a str to int"
   ]
  },
  {
   "cell_type": "code",
   "execution_count": 10,
   "metadata": {},
   "outputs": [
    {
     "name": "stdout",
     "output_type": "stream",
     "text": [
      "<class 'str'>\n",
      "<class 'int'>\n"
     ]
    }
   ],
   "source": [
    "user_input = input()\n",
    "print(type(user_input))\n",
    "converted_input = int(user_input)\n",
    "print(type(converted_input))"
   ]
  },
  {
   "cell_type": "markdown",
   "metadata": {},
   "source": [
    "# Let's apply this to a age verification system"
   ]
  },
  {
   "cell_type": "code",
   "execution_count": 16,
   "metadata": {},
   "outputs": [
    {
     "name": "stdout",
     "output_type": "stream",
     "text": [
      "You are not allowed for entry\n"
     ]
    }
   ],
   "source": [
    "legal_age = 18\n",
    "user_age = input()\n",
    "# converting the input from str to integer.\n",
    "converted_age = int(user_age)\n",
    "\n",
    "# verification system using conditionals.\n",
    "if legal_age < converted_age:\n",
    "    print(\"You are allowed to access the club\")\n",
    "    \n",
    "elif legal_age == converted_age:\n",
    "    print(\"Perfect age amigo\")\n",
    "    \n",
    "else :\n",
    "    print(\"You are not allowed for entry\")"
   ]
  },
  {
   "cell_type": "markdown",
   "metadata": {},
   "source": [
    "# --Python Data Types"
   ]
  },
  {
   "cell_type": "code",
   "execution_count": null,
   "metadata": {},
   "outputs": [],
   "source": [
    "# String\n",
    "name = \"Bravo Six\" \n",
    "\n",
    "# Numbers\n",
    "integer = 10\n",
    "a_float = 141.0\n",
    "\n",
    "# Boolean \n",
    "is_alive = True #capital T or F\n",
    "is_dead = False\n",
    "\n",
    "# Lists \n",
    "numbers = [1, 2, 3, 4, 5]\n",
    "squad_strings = [\"Captain Price\", \"Seargeant MC Tavish\", \"Ghost Simon\", \"Sandman\"]\n",
    "mixed = [\"C-17\", 10, 141.1, True] # containing a string/integer/float/boolean\n",
    "\n",
    "# Tuples\n",
    "one_to_ten = (1, 2, 3, 4, 5, 6, 7, 8, 9, 10)\n",
    "# tuples cannot be changed or reordered as they are always immutable values, unlike lists are flexible and can be modified/replaced/removed/appended\n",
    "\n",
    "\n",
    "# Dictionaries\n",
    "# to keep the syntax clean make sure to use ' ' when wrapping a key, therefor not mixing them with the usual string syntax and to keep them standing out from  other elements\n",
    "student = {\n",
    "    'name' : \"Big Chungus\",\n",
    "    'age' : 12, \n",
    "    'score' : 10.2\n",
    "}\n"
   ]
  },
  {
   "cell_type": "markdown",
   "metadata": {},
   "source": [
    "## RECAP"
   ]
  },
  {
   "cell_type": "code",
   "execution_count": 13,
   "metadata": {},
   "outputs": [
    {
     "name": "stdout",
     "output_type": "stream",
     "text": [
      "30mm cannon\n"
     ]
    }
   ],
   "source": [
    "# string\n",
    "name = \"Bravo Six\"\n",
    "# integer\n",
    "callSign = 141\n",
    "# float\n",
    "score = 141.0\n",
    "# boolean\n",
    "is_deployed = True\n",
    "\n",
    "# list\n",
    "bravo_six_squad = [\"Captain Price\", \"Ghost Simon\", \"Captain MC Tavish\", \"Sandman\"]\n",
    "\n",
    "# Tuple\n",
    "us_jets = (\"f16\", \"f15\", \"a10\")\n",
    "\n",
    "# dictionaries\n",
    "f16_specs = {\n",
    "    'speed' : \"mach 1.0\",\n",
    "    'weight' : 4000,\n",
    "    'radarRange' : 300.75,\n",
    "    'ammunition' : [\"AIM-9X\", \"30mm cannon\"]\n",
    "}\n",
    "\n",
    "print(f16_specs[\"ammunition\"][1])"
   ]
  },
  {
   "cell_type": "markdown",
   "metadata": {},
   "source": [
    "### identity operators"
   ]
  },
  {
   "cell_type": "code",
   "execution_count": 14,
   "metadata": {},
   "outputs": [
    {
     "name": "stdout",
     "output_type": "stream",
     "text": [
      "2193924780224\n",
      "2193924838464\n",
      "2193924838464\n",
      "False\n",
      "True\n"
     ]
    }
   ],
   "source": [
    "# we have 2 : is / is not\n",
    "# mostly comparing their value inside a memory hash like\n",
    "list = [1,2,3,4]\n",
    "list2 = [1,2,3,4]\n",
    "list3 = list2\n",
    "\n",
    "print(id(list))\n",
    "print(id(list2))\n",
    "print(id(list3))\n",
    "\n",
    "print(list is list2)\n",
    "print(list2 is list3)"
   ]
  }
 ],
 "metadata": {
  "kernelspec": {
   "display_name": "Python 3",
   "language": "python",
   "name": "python3"
  },
  "language_info": {
   "codemirror_mode": {
    "name": "ipython",
    "version": 3
   },
   "file_extension": ".py",
   "mimetype": "text/x-python",
   "name": "python",
   "nbconvert_exporter": "python",
   "pygments_lexer": "ipython3",
   "version": "3.12.1"
  }
 },
 "nbformat": 4,
 "nbformat_minor": 2
}
