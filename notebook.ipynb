{
 "cells": [
  {
   "cell_type": "markdown",
   "metadata": {},
   "source": [
    "# Python Reserved Keywords."
   ]
  },
  {
   "cell_type": "code",
   "execution_count": 31,
   "metadata": {},
   "outputs": [
    {
     "name": "stdout",
     "output_type": "stream",
     "text": [
      "<class 'list'>\n"
     ]
    }
   ],
   "source": [
    "keywords = [\" and, exec, not, assert, finally, or, break, for, pass, class, from, print, continue, global, raise, def, if, return, del, import, try, elif, in, else, is, with, except\"]\n",
    "\n",
    "print(type(keywords))"
   ]
  },
  {
   "cell_type": "markdown",
   "metadata": {},
   "source": [
    "# Type casting a str to int"
   ]
  },
  {
   "cell_type": "code",
   "execution_count": 32,
   "metadata": {},
   "outputs": [
    {
     "name": "stdout",
     "output_type": "stream",
     "text": [
      "<class 'str'>\n",
      "<class 'int'>\n"
     ]
    }
   ],
   "source": [
    "user_input = input()\n",
    "print(type(user_input))\n",
    "converted_input = int(user_input)\n",
    "print(type(converted_input))"
   ]
  },
  {
   "cell_type": "markdown",
   "metadata": {},
   "source": [
    "# Let's apply this to a age verification system"
   ]
  },
  {
   "cell_type": "code",
   "execution_count": 33,
   "metadata": {},
   "outputs": [
    {
     "name": "stdout",
     "output_type": "stream",
     "text": [
      "You are not allowed for entry\n"
     ]
    }
   ],
   "source": [
    "legal_age = 18\n",
    "user_age = input()\n",
    "# converting the input from str to integer.\n",
    "converted_age = int(user_age)\n",
    "\n",
    "# verification system using conditionals.\n",
    "if legal_age < converted_age:\n",
    "    print(\"You are allowed to access the club\")\n",
    "    \n",
    "elif legal_age == converted_age:\n",
    "    print(\"Perfect age amigo\")\n",
    "    \n",
    "else :\n",
    "    print(\"You are not allowed for entry\")"
   ]
  },
  {
   "cell_type": "markdown",
   "metadata": {},
   "source": [
    "# --Python Data Types"
   ]
  },
  {
   "cell_type": "code",
   "execution_count": 34,
   "metadata": {},
   "outputs": [],
   "source": [
    "# String\n",
    "name = \"Bravo Six\" \n",
    "\n",
    "# Numbers\n",
    "integer = 10\n",
    "a_float = 141.0\n",
    "\n",
    "# Boolean \n",
    "is_alive = True #capital T or F\n",
    "is_dead = False\n",
    "\n",
    "# Lists \n",
    "numbers = [1, 2, 3, 4, 5]\n",
    "squad_strings = [\"Captain Price\", \"Seargeant MC Tavish\", \"Ghost Simon\", \"Sandman\"]\n",
    "mixed = [\"C-17\", 10, 141.1, True] # containing a string/integer/float/boolean\n",
    "\n",
    "# Tuples\n",
    "one_to_ten = (1, 2, 3, 4, 5, 6, 7, 8, 9, 10)\n",
    "# tuples cannot be changed or reordered as they are always immutable values, unlike lists are flexible and can be modified/replaced/removed/appended\n",
    "\n",
    "\n",
    "# Dictionaries\n",
    "# to keep the syntax clean make sure to use ' ' when wrapping a key, therefor not mixing them with the usual string syntax and to keep them standing out from  other elements\n",
    "student = {\n",
    "    'name' : \"Big Chungus\",\n",
    "    'age' : 12, \n",
    "    'score' : 10.2\n",
    "}\n"
   ]
  },
  {
   "cell_type": "markdown",
   "metadata": {},
   "source": [
    "## RECAP"
   ]
  },
  {
   "cell_type": "code",
   "execution_count": 35,
   "metadata": {},
   "outputs": [
    {
     "name": "stdout",
     "output_type": "stream",
     "text": [
      "30mm cannon\n"
     ]
    }
   ],
   "source": [
    "# string\n",
    "name = \"Bravo Six\"\n",
    "# integer\n",
    "callSign = 141\n",
    "# float\n",
    "score = 141.0\n",
    "# boolean\n",
    "is_deployed = True\n",
    "\n",
    "# list\n",
    "bravo_six_squad = [\"Captain Price\", \"Ghost Simon\", \"Captain MC Tavish\", \"Sandman\"]\n",
    "\n",
    "# Tuple\n",
    "us_jets = (\"f16\", \"f15\", \"a10\")\n",
    "\n",
    "# dictionaries\n",
    "f16_specs = {\n",
    "    'speed' : \"mach 1.0\",\n",
    "    'weight' : 4000,\n",
    "    'radarRange' : 300.75,\n",
    "    'ammunition' : [\"AIM-9X\", \"30mm cannon\"]\n",
    "}\n",
    "\n",
    "print(f16_specs[\"ammunition\"][1])"
   ]
  },
  {
   "cell_type": "markdown",
   "metadata": {},
   "source": [
    "### identity operators"
   ]
  },
  {
   "cell_type": "code",
   "execution_count": 36,
   "metadata": {},
   "outputs": [
    {
     "name": "stdout",
     "output_type": "stream",
     "text": [
      "2034237835584\n",
      "2034237869248\n",
      "2034237869248\n",
      "False\n",
      "True\n"
     ]
    }
   ],
   "source": [
    "# we have 2 : is / is not\n",
    "# mostly comparing their value inside a memory hash like\n",
    "list = [1,2,3,4]\n",
    "list2 = [1,2,3,4]\n",
    "list3 = list2\n",
    "\n",
    "print(id(list))\n",
    "print(id(list2))\n",
    "print(id(list3))\n",
    "\n",
    "print(list is list2)\n",
    "print(list is not list2)"
   ]
  },
  {
   "cell_type": "markdown",
   "metadata": {},
   "source": [
    "# fun browser test benchmark"
   ]
  },
  {
   "cell_type": "code",
   "execution_count": 37,
   "metadata": {},
   "outputs": [
    {
     "name": "stdout",
     "output_type": "stream",
     "text": [
      "[\"Firefox Developer Edition ['SpotifyTab', 'YouTubeTab', 'ChatGPTTab'] = 83%\", \"Brave Browser ['SpotifyTab', 'YouTubeTab', 'ChatGPTTab'] = 70%\"]\n"
     ]
    }
   ],
   "source": [
    "ff = \"Firefox Developer Edition \"\n",
    "brave = \"Brave Browser \"\n",
    "benchmarkTest = [\"SpotifyTab\", \"YouTubeTab\", \"ChatGPTTab\"]\n",
    "\n",
    "memoryUsage = \"RAM\"\n",
    "\n",
    "resutlFF = ff + str(benchmarkTest) + \" = \" + str(83) + \"%\"\n",
    "resultBB = brave + str(benchmarkTest) + \" = \" + str(70) + \"%\"\n",
    "\n",
    "finalVerdict = [resutlFF] + [resultBB]\n",
    "print(finalVerdict)"
   ]
  },
  {
   "cell_type": "markdown",
   "metadata": {},
   "source": [
    "## Random python slicing technique I did my self\n",
    "> Vehicle Reference, attack the D-Point\n",
    "1. Russian Tanks = T90A, T72-B, and T-80BV.\n",
    "2. Russian Aircrafts = Su3-34, Su-25, and MiG-29."
   ]
  },
  {
   "cell_type": "code",
   "execution_count": 38,
   "metadata": {},
   "outputs": [
    {
     "name": "stdout",
     "output_type": "stream",
     "text": [
      "['T90A', 'T72-B', 'T-80BV']\n",
      "['Su-34', 'Su-25', 'MiG-29']\n"
     ]
    }
   ],
   "source": [
    "russian_vehicles = [\"T90A\", \"T72-B\", \"T-80BV\", \"Su-34\", \"Su-25\", \"MiG-29\"]\n",
    "russian_tanks = russian_vehicles[0:3]\n",
    "russian_aircrafts = russian_vehicles[3:6]\n",
    "\n",
    "# Filter Russian Tanks\n",
    "print(russian_tanks)\n",
    "# Filter Russian Aircrafts\n",
    "print(russian_aircrafts)\n"
   ]
  },
  {
   "cell_type": "markdown",
   "metadata": {},
   "source": [
    "# Retrieving Reddit's most famous Python subreddits and converting them into RSS Feed."
   ]
  },
  {
   "cell_type": "code",
   "execution_count": 39,
   "metadata": {},
   "outputs": [
    {
     "name": "stdout",
     "output_type": "stream",
     "text": [
      "https://www.reddit.com/r/Python.rss\n",
      "https://www.reddit.com/r/learnpython.rss\n",
      "https://www.reddit.com/r/datascience.rss\n",
      "https://www.reddit.com/r/dataengineering.rss\n",
      "https://www.reddit.com/r/pythontips.rss\n"
     ]
    }
   ],
   "source": [
    "python_subreddits_urls = [\"https://www.reddit.com/r/Python\", \"https://www.reddit.com/r/learnpython\", \"https://www.reddit.com/r/datascience\", \"https://www.reddit.com/r/dataengineering\", \"https://www.reddit.com/r/pythontips\" ]\n",
    "\n",
    "print(python_subreddits_urls[0] + \".\" + \"rss\")\n",
    "print(python_subreddits_urls[1] + \".\" + \"rss\")\n",
    "print(python_subreddits_urls[2] + \".\" + \"rss\")\n",
    "print(python_subreddits_urls[3] + \".\" + \"rss\")\n",
    "print(python_subreddits_urls[4] + \".\" + \"rss\")"
   ]
  },
  {
   "cell_type": "markdown",
   "metadata": {},
   "source": [
    "# F String in Python makes you print lines like these.\n",
    "## Lets'learn through practice.\n",
    "### Quiz: "
   ]
  },
  {
   "cell_type": "markdown",
   "metadata": {},
   "source": [
    "Friends Party Invitation:\n",
    "You;re organizing a party for all your friends, You need to do some organizing to make sure everyone has seats.\n",
    "\n",
    "- First create a list of names of the 5 people you'd like to come.\n",
    "\n",
    "- Print out a personalized invitation for 3 of them using f string.\n",
    "\n",
    "- one of your guests can't make it , modify your list and replace that guest.\n",
    "\n",
    "- You found a bigger table of 3 more people, add one at the end of the list , one in the middle and one at the beginning of the list.\n",
    "\n",
    "- BONUS : print the length of the list now.\n",
    "\n",
    "- Turns out you'll only have space for 6 people, Remove 1 random person and one specific person by their name.\n",
    "\n",
    "- Time to organize the party! Print out a sorted list of your friends, Now actually sort the original list, Now reverse the list."
   ]
  },
  {
   "cell_type": "code",
   "execution_count": null,
   "metadata": {},
   "outputs": [],
   "source": [
    "# - First create a list of names of the 5 people you'd like to come.\n",
    "guests = [\"Bike\", \"Screwdriver\", \"Tactical Nokia\", \"BlackRed Shoes\", \"T-90 Shtora\"]\n",
    "\n",
    "# - Print out a personalized invitation for 3 of them using f string.\n",
    "# >>>>>> print(f'...')\n",
    "print(f'-welcome my {guests[0]} to the party.')\n",
    "\n",
    "# - one of your guests can't make it (Tactical Nokia) , modify your list and replace that guest.\n",
    "guests[2] = \"Walmart Core Prime\"\n",
    "print(\"-walmart replace nokia\", guests)\n",
    "\n",
    "\n",
    "# - You found a bigger table of 3 more people, add one at the end of the list , one in the middle and one at the beginning of the list.\n",
    "# - BONUS : print the length of the list now.\n",
    "newGuests = [\"Black Cat\", \"Orange Cat\", \"Tree of Panthers\"]\n",
    "\n",
    "guests.append(newGuests[0]) # add one at the end of the list\n",
    "guests.insert(3, newGuests[1]) # one in the middle\n",
    "guests.insert(0, newGuests[2]) # one at the beginning of the list\n",
    " \n",
    "print(\"-added new elements at different location\", guests)\n",
    "print(len(guests)) #print the length of the list now."
   ]
  }
 ],
 "metadata": {
  "kernelspec": {
   "display_name": "Python 3",
   "language": "python",
   "name": "python3"
  },
  "language_info": {
   "codemirror_mode": {
    "name": "ipython",
    "version": 3
   },
   "file_extension": ".py",
   "mimetype": "text/x-python",
   "name": "python",
   "nbconvert_exporter": "python",
   "pygments_lexer": "ipython3",
   "version": "3.12.1"
  }
 },
 "nbformat": 4,
 "nbformat_minor": 2
}
